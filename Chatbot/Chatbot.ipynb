{
 "cells": [
  {
   "cell_type": "code",
   "execution_count": 1,
   "metadata": {},
   "outputs": [],
   "source": [
    "import nltk\n",
    "import numpy as np\n",
    "import random\n",
    "import string"
   ]
  },
  {
   "cell_type": "markdown",
   "metadata": {},
   "source": [
    "# 1 DEFINICIÓN CORPUS"
   ]
  },
  {
   "cell_type": "code",
   "execution_count": 2,
   "metadata": {},
   "outputs": [
    {
     "data": {
      "text/plain": [
       "'Belanova es una banda de mÃºsica electrÃ³nica originaria de MÃ©xico, que ha lanzado varios Ã¡lbumes a lo largo de su carrera. AquÃ\\xad se describe cada uno de sus Ã¡lbumes, incluyendo algunas de sus canciones mÃ¡s populares:\\n\\n\"Cocktail\" (2003): Este fue el Ã¡lbum debut de Belanova. El Ã¡lbum incluye canciones como \"Me pregunto\", \"Tus ojos\" y \"Suele pasar\". \"Me pregunto\" fue uno de los sencillos mÃ¡s populares del Ã¡lbum, y el video musical ganÃ³ varios premios.\\n\\n\"Dulce Beat\" (2005): Este es el Ã¡lbum mÃ¡s exitoso de Belanova hasta la fecha. El Ã¡lbum incluye canciones como \"Por ti\", \"Rosa pastel\", \"Baila mi corazÃ³n\" y \"Toma mi mano\". \"Por ti\" y \"Rosa pastel\" se convirtieron en Ã©xitos en MÃ©xico y en otros paÃ\\xadses de habla hispana.\\n\\n\"FantasÃ\\xada Pop\" (2007): Este Ã¡lbum muestra una evoluciÃ³n en el sonido de Belanova, con un estilo mÃ¡s electrÃ³nico y bailable. El Ã¡lbum incluye canciones como \"Baila conmigo\", \"Cada que...\" y \"Baila mi corazÃ³n\" (remix). \"Baila conmigo\" fue uno de los sencillos mÃ¡s populares del Ã¡lbum.\\n\\n\"SueÃ±o Electro I\" (2010): Este es el primer Ã¡lbum de una serie de dos partes. El Ã¡lbum incluye canciones como \"Nada de mÃ¡s\", \"Hasta el final\" y \"Hoy\". \"Nada de mÃ¡s\" fue uno de los sencillos mÃ¡s populares del Ã¡lbum.\\n\\n\"SueÃ±o Electro II\" (2011): Este es el segundo Ã¡lbum de la serie \"SueÃ±o Electro\". El Ã¡lbum incluye canciones como \"Nada de mÃ¡s\" (versiÃ³n acÃºstica), \"CÃ¡sate conmigo\" y \"Hasta el final\" (versiÃ³n acÃºstica).\\n\\n\"Canciones para la Luna - SinfÃ³nico en Vivo\" (2013): Este Ã¡lbum es un registro en vivo de un concierto que Belanova dio junto a la Orquesta FilarmÃ³nica de Jalisco. El Ã¡lbum incluye versiones sinfÃ³nicas de canciones de Belanova como \"Rosa pastel\" y \"Cada que...\".\\n\\n\"Cerrando Ciclos\" (2018): Este es el Ã¡lbum mÃ¡s reciente de Belanova. El Ã¡lbum incluye canciones como \"Nada de mÃ¡s\" (versiÃ³n remix), \"Eres tÃº\" y \"CÃ¡sate conmigo\" (versiÃ³n acÃºstica). El Ã¡lbum muestra un sonido mÃ¡s maduro y experimental para la banda.\\n\\nEn general, la discografÃ\\xada de Belanova muestra una evoluciÃ³n en su sonido, desde un estilo mÃ¡s pop y rock en su primer Ã¡lbum hasta un sonido mÃ¡s electrÃ³nico y bailable en sus Ã¡lbumes posteriores. La banda ha sido reconocida por su estilo Ãºnico y su capacidad para fusionar diferentes gÃ©neros musicales\\nLos integrantes de Belanova siguen activos en la mÃºsica y en otros proyectos creativos. A continuaciÃ³n, te presento a quÃ© se dedican actualmente:\\n\\nDenisse Guerrero: Es la vocalista y compositora principal de Belanova. AdemÃ¡s de su trabajo con la banda, ha incursionado en proyectos solistas y ha colaborado con otros artistas. En 2018, lanzÃ³ su primer Ã¡lbum como solista titulado \"Desde El Cielo\". TambiÃ©n ha participado como juez en programas de televisiÃ³n como \"La Voz MÃ©xico\" y \"PequeÃ±os Gigantes\".\\n\\nEdgar Huerta: Es el tecladista de Belanova y tambiÃ©n participa en la composiciÃ³n de las canciones. AdemÃ¡s de su trabajo con la banda, ha colaborado con otros artistas como Natalia Lafourcade y Julieta Venegas. En 2020, lanzÃ³ un proyecto musical en solitario bajo el nombre de \"Lagartijando\".\\n\\nRicardo Arreola: Es el bajista de Belanova y tambiÃ©n participa en la composiciÃ³n de las canciones. AdemÃ¡s de su trabajo con la banda, ha colaborado con otros artistas como Natalia Lafourcade y Kinky. TambiÃ©n ha trabajado en proyectos de diseÃ±o y arte, incluyendo la creaciÃ³n de portadas de Ã¡lbumes y videos musicales para Belanova y otros artistas.\\n\\nEn resumen, los integrantes de Belanova siguen activos en la mÃºsica y en otros proyectos creativos, tanto en conjunto como en solitario. Han colaborado con otros artistas y han explorado diferentes gÃ©neros y estilos musicales.'"
      ]
     },
     "execution_count": 2,
     "metadata": {},
     "output_type": "execute_result"
    }
   ],
   "source": [
    "f=open(r'corpus.txt','r',errors = 'ignore')\n",
    "raw=f.read()\n",
    "raw"
   ]
  },
  {
   "cell_type": "markdown",
   "metadata": {},
   "source": [
    "# 2a Preprocesamiento del Texto con NTLK CORPUS"
   ]
  },
  {
   "cell_type": "code",
   "execution_count": 3,
   "metadata": {},
   "outputs": [],
   "source": [
    "raw=raw.lower()# convertir en minúscula\n",
    "#nltk.download('punkt') # Instalar módulo punkt si no está ya instalado (solo ejecutar la primera vez)\n",
    "#nltk.download('wordnet') # Instalar módulo wordnet si no está ya instalado (solo ejecutar la primera vez)\n",
    "sent_tokens = nltk.sent_tokenize(raw)# Convierte el CORPUS a una lista de sentencias\n",
    "word_tokens = nltk.word_tokenize(raw)# Convierte el CORPUS a una lista de palabras\n",
    "lemmer = nltk.stem.WordNetLemmatizer()\n",
    "\n",
    "#WordNet diccionario semántico incluido en NLTK\n",
    "def LemTokens(tokens):\n",
    "    return [lemmer.lemmatize(token) for token in tokens]\n",
    "\n",
    "remove_punct_dict = dict((ord(punct), None) for punct in string.punctuation)\n",
    "def LemNormalize(text):\n",
    "    return LemTokens(nltk.word_tokenize(text.lower().translate(remove_punct_dict)))"
   ]
  },
  {
   "cell_type": "markdown",
   "metadata": {},
   "source": [
    "# 2b PREPROCESAMIENTO DEL TEXTO + 3 Evaluar Similitud MENSAJE USUARIO - CORPUS"
   ]
  },
  {
   "cell_type": "code",
   "execution_count": 4,
   "metadata": {},
   "outputs": [],
   "source": [
    "from sklearn.feature_extraction.text import TfidfVectorizer\n",
    "from sklearn.metrics.pairwise import cosine_similarity\n",
    "from nltk.corpus import stopwords\n",
    "\n",
    "#Función para determinar la similitud del texto insertado y el corpus\n",
    "def response(user_response):\n",
    "    robo_response=''\n",
    "    sent_tokens.append(user_response) #Añade al corpus la respuesta de usuario al final\n",
    "    TfidfVec = TfidfVectorizer(tokenizer=LemNormalize, stop_words=stopwords.words('spanish'))\n",
    "    tfidf = TfidfVec.fit_transform(sent_tokens)\n",
    "    # 3 EVALUAR SIMILITUD DE COSENO ENTRE MENSAJE USUARIO (tfidf[-1]) y el CORPUS (tfidf)\n",
    "    vals = cosine_similarity(tfidf[-1], tfidf)\n",
    "    idx=vals.argsort()[0][-2]\n",
    "    flat = vals.flatten()\n",
    "    flat.sort()\n",
    "    req_tfidf = flat[-2]\n",
    "    \n",
    "    if(req_tfidf==0):\n",
    "        robo_response=robo_response+\"Lo siento, no te he entendido. Si no puedo responder a lo que busca póngase en contacto con soporte@soporte.com\"\n",
    "        return robo_response\n",
    "\n",
    "    else:\n",
    "        robo_response = robo_response+sent_tokens[idx]\n",
    "        return robo_response"
   ]
  },
  {
   "cell_type": "markdown",
   "metadata": {},
   "source": [
    "# 4 DEFINICIÓN DE COINCIDENCIAS MANUAL"
   ]
  },
  {
   "cell_type": "code",
   "execution_count": 5,
   "metadata": {},
   "outputs": [],
   "source": [
    "SALUDOS_INPUTS = (\"hola\", \"buenas\", \"saludos\", \"qué tal\", \"hey\",\"buenos dias\",)\n",
    "SALUDOS_OUTPUTS = [\"Hola\", \"Hola, ¿Qué tal?\", \"Hola, ¿Cómo te puedo ayudar?\", \"Hola, encantado de hablar contigo\"]\n",
    "\n",
    "def saludos(sentence):\n",
    "    for word in sentence.split():\n",
    "        if word.lower() in SALUDOS_INPUTS:\n",
    "            return random.choice(SALUDOS_OUTPUTS)"
   ]
  },
  {
   "cell_type": "markdown",
   "metadata": {},
   "source": [
    "# 5 GENERACIÓN DE RESPUESTA"
   ]
  },
  {
   "cell_type": "code",
   "execution_count": null,
   "metadata": {
    "scrolled": true
   },
   "outputs": [
    {
     "name": "stdout",
     "output_type": "stream",
     "text": [
      "Chatbot: Mi nombre es ROBOT. Contestaré a tus preguntas acerca de la discografía de Belanova. Si quieres salir, escribe 'salir' \n",
      "\n",
      "Usuario: quién es belanova?\n",
      "ROBOT: \"cerrando ciclos\" (2018): este es el ã¡lbum mã¡s reciente de belanova.\n",
      "\n",
      "Usuario: a qué se dedica?\n",
      "ROBOT: Lo siento, no te he entendido. Si no puedo responder a lo que busca póngase en contacto con soporte@soporte.com\n",
      "\n",
      "Usuario: cuentame acerca de belanova?\n",
      "ROBOT: \"cerrando ciclos\" (2018): este es el ã¡lbum mã¡s reciente de belanova.\n",
      "\n",
      "Usuario: cuáles son sus grandes éxitos?\n",
      "ROBOT: Lo siento, no te he entendido. Si no puedo responder a lo que busca póngase en contacto con soporte@soporte.com\n",
      "\n",
      "Usuario: qué canciones tiene?\n",
      "ROBOT: el ã¡lbum incluye canciones como \"nada de mã¡s\", \"hasta el final\" y \"hoy\".\n",
      "\n",
      "Usuario: hola\n",
      "ROBOT: Hola, ¿Cómo te puedo ayudar?\n",
      "\n",
      "Usuario: integrantes de belanova\n",
      "ROBOT: en resumen, los integrantes de belanova siguen activos en la mãºsica y en otros proyectos creativos, tanto en conjunto como en solitario.\n",
      "\n"
     ]
    }
   ],
   "source": [
    "flag=True\n",
    "print(\"Chatbot: Mi nombre es ROBOT. Contestaré a tus preguntas acerca de la discografía de Belanova. Si quieres salir, escribe 'salir' \")\n",
    "while(flag==True):\n",
    "    print(\"\")\n",
    "    user_response = input(\"Usuario: \")\n",
    "    user_response = user_response.lower() #Convertimos a minúscula\n",
    "    \n",
    "    if(user_response!='salir'):\n",
    "        \n",
    "        if(user_response=='gracias' or user_response=='muchas gracias'): #Se podría haber definido otra función de coincidencia manual\n",
    "            flag=True\n",
    "            print(\"Chatbot: No hay de qué\")\n",
    "            \n",
    "        else:\n",
    "            if(saludos(user_response)!=None): #Si la palabra insertada por el usuario es un saludo (Coincidencias manuales definidas previamente)\n",
    "                print(\"ROBOT: \"+saludos(user_response))\n",
    "                \n",
    "            else: #Si la palabra insertada no es un saludo --> CORPUS\n",
    "                print(\"ROBOT: \",end=\"\") \n",
    "                print(response(user_response))\n",
    "                sent_tokens.remove(user_response) # para eliminar del corpus la respuesta del usuario y volver a evaluar con el CORPUS limpio\n",
    "    else:\n",
    "        flag=False\n",
    "        print(\"Chatbot: Nos vemos pronto, ¡cuídate!\")"
   ]
  },
  {
   "cell_type": "code",
   "execution_count": null,
   "metadata": {},
   "outputs": [],
   "source": []
  },
  {
   "cell_type": "code",
   "execution_count": null,
   "metadata": {},
   "outputs": [],
   "source": []
  }
 ],
 "metadata": {
  "kernelspec": {
   "display_name": "Python 3 (ipykernel)",
   "language": "python",
   "name": "python3"
  },
  "language_info": {
   "codemirror_mode": {
    "name": "ipython",
    "version": 3
   },
   "file_extension": ".py",
   "mimetype": "text/x-python",
   "name": "python",
   "nbconvert_exporter": "python",
   "pygments_lexer": "ipython3",
   "version": "3.9.13"
  }
 },
 "nbformat": 4,
 "nbformat_minor": 4
}
